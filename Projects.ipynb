{
 "cells": [
  {
   "cell_type": "markdown",
   "id": "9c2e784c-447c-4c8a-9567-6b566d865d0d",
   "metadata": {},
   "source": [
    "# Currency convertor"
   ]
  },
  {
   "cell_type": "code",
   "execution_count": 1,
   "id": "796fb422-6218-4b1e-8966-e2ea405361cb",
   "metadata": {},
   "outputs": [
    {
     "name": "stdout",
     "output_type": "stream",
     "text": [
      "Requirement already satisfied: CurrencyConverter in c:\\users\\user\\anaconda3\\lib\\site-packages (0.17.32)\n",
      "Note: you may need to restart the kernel to use updated packages.\n"
     ]
    }
   ],
   "source": [
    "pip install CurrencyConverter"
   ]
  },
  {
   "cell_type": "code",
   "execution_count": 3,
   "id": "595480b3-5f4e-484f-bb31-d5ba92cc328c",
   "metadata": {},
   "outputs": [],
   "source": [
    "from currency_converter import CurrencyConverter\n",
    "import tkinter as tk\n",
    "\n",
    "window = tk.Tk()\n",
    "a = CurrencyConverter()\n",
    "window.geometry(\"500x360\")\n",
    "def Convert():\n",
    "    amount = int(e1.get())\n",
    "    cur1 = e2.get()\n",
    "    cur2 = e3.get()\n",
    "    data = a.convert(amount,cur1,cur2)\n",
    "    l5 = tk.Label(window,text=data, font= \"Times 14 bold\").place(x = 230,y = 290)\n",
    "\n",
    "l1 = tk.Label(window,text=\"Currency Converter\", font= \"Times 25 bold\").place(x = 100, y = 30)\n",
    "l2 = tk.Label(window,text=\"Enter Amount here :\", font= \"Times 16 bold\").place (x = 50, y = 80)\n",
    "e1 = tk.Entry(window)\n",
    "l3 = tk.Label(window,text=\"Enter Currency :\", font= \"Times 16 bold\").place (x = 50, y = 130)\n",
    "e2 = tk .Entry(window)\n",
    "l4 = tk.Label(window,text=\"Enter req Currency :\", font= \"Times 16 bold\").place (x = 50, y = 180)\n",
    "e3 = tk.Entry(window)\n",
    "b1 = tk.Button(window,text=\"Convert\",command= Convert).place(x = 230, y = 240)\n",
    "\n",
    "e1.place(x = 300, y = 90)\n",
    "e2.place(x = 300, y = 140)\n",
    "e3.place(x = 300, y = 190)\n",
    "window.mainloop()"
   ]
  },
  {
   "cell_type": "code",
   "execution_count": null,
   "id": "30654a96-6947-42b8-bc2c-89e474703aea",
   "metadata": {},
   "outputs": [],
   "source": []
  }
 ],
 "metadata": {
  "kernelspec": {
   "display_name": "Python 3 (ipykernel)",
   "language": "python",
   "name": "python3"
  },
  "language_info": {
   "codemirror_mode": {
    "name": "ipython",
    "version": 3
   },
   "file_extension": ".py",
   "mimetype": "text/x-python",
   "name": "python",
   "nbconvert_exporter": "python",
   "pygments_lexer": "ipython3",
   "version": "3.12.4"
  }
 },
 "nbformat": 4,
 "nbformat_minor": 5
}
